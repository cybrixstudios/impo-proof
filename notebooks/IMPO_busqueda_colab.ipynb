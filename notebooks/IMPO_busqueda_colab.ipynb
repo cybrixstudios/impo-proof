{
  "cells": [
    {
      "cell_type": "code",
      "execution_count": 4,
      "metadata": {
        "id": "X7brWHp-FS82",
        "outputId": "10ff1c5e-cd16-4642-8c8b-4b8d26936cbc",
        "colab": {
          "base_uri": "https://localhost:8080/"
        }
      },
      "outputs": [
        {
          "output_type": "stream",
          "name": "stdout",
          "text": [
            "901 → Divisores: [1, 17, 53, 901] → Suma: 972 → Perfecto: False\n",
            "903 → Divisores: [1, 3, 7, 21, 43, 129, 301, 903] → Suma: 1408 → Perfecto: False\n",
            "905 → Divisores: [1, 5, 181, 905] → Suma: 1092 → Perfecto: False\n",
            "909 → Divisores: [1, 3, 9, 101, 303, 909] → Suma: 1326 → Perfecto: False\n",
            "913 → Divisores: [1, 11, 83, 913] → Suma: 1008 → Perfecto: False\n",
            "915 → Divisores: [1, 3, 5, 15, 61, 183, 305, 915] → Suma: 1488 → Perfecto: False\n",
            "917 → Divisores: [1, 7, 131, 917] → Suma: 1056 → Perfecto: False\n",
            "921 → Divisores: [1, 3, 307, 921] → Suma: 1232 → Perfecto: False\n",
            "923 → Divisores: [1, 13, 71, 923] → Suma: 1008 → Perfecto: False\n",
            "925 → Divisores: [1, 5, 25, 37, 185, 925] → Suma: 1178 → Perfecto: False\n",
            "927 → Divisores: [1, 3, 9, 103, 309, 927] → Suma: 1352 → Perfecto: False\n",
            "931 → Divisores: [1, 7, 19, 49, 133, 931] → Suma: 1140 → Perfecto: False\n",
            "933 → Divisores: [1, 3, 311, 933] → Suma: 1248 → Perfecto: False\n",
            "935 → Divisores: [1, 5, 11, 17, 55, 85, 187, 935] → Suma: 1296 → Perfecto: False\n",
            "939 → Divisores: [1, 3, 313, 939] → Suma: 1256 → Perfecto: False\n",
            "943 → Divisores: [1, 23, 41, 943] → Suma: 1008 → Perfecto: False\n",
            "945 → Divisores: [1, 3, 5, 7, 9, 15, 21, 27, 35, 45, 63, 105, 135, 189, 315, 945] → Suma: 1920 → Perfecto: False\n",
            "949 → Divisores: [1, 13, 73, 949] → Suma: 1036 → Perfecto: False\n"
          ]
        }
      ],
      "source": [
        "from sympy import divisors, isprime\n",
        "\n",
        "for N in range(901, 951, 2):  # Rango de números impares\n",
        "    divs = divisors(N)\n",
        "    if not isprime(N):\n",
        "        print(f\"{N} → Divisores: {divs} → Suma: {sum(divs)} → Perfecto: {sum(divs) == 2 * N}\")\n"
      ]
    }
  ],
  "metadata": {
    "colab": {
      "name": "IMPO_busqueda_colab.ipynb",
      "provenance": []
    },
    "kernelspec": {
      "display_name": "Python 3",
      "language": "python",
      "name": "python3"
    },
    "language_info": {
      "name": "python"
    }
  },
  "nbformat": 4,
  "nbformat_minor": 0
}